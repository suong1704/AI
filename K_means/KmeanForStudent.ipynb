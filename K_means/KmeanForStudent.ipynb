{
 "cells": [
  {
   "cell_type": "code",
   "execution_count": 1,
   "metadata": {},
   "outputs": [],
   "source": [
    "#1.Import the relevant libraries"
   ]
  },
  {
   "cell_type": "code",
   "execution_count": 2,
   "metadata": {},
   "outputs": [],
   "source": [
    "import numpy as np\n",
    "import pandas as pd\n",
    "import matplotlib.pyplot as plt"
   ]
  },
  {
   "cell_type": "code",
   "execution_count": 3,
   "metadata": {},
   "outputs": [],
   "source": [
    "# 2. Load data"
   ]
  },
  {
   "cell_type": "code",
   "execution_count": 4,
   "metadata": {},
   "outputs": [
    {
     "data": {
      "text/html": [
       "<div>\n",
       "<style scoped>\n",
       "    .dataframe tbody tr th:only-of-type {\n",
       "        vertical-align: middle;\n",
       "    }\n",
       "\n",
       "    .dataframe tbody tr th {\n",
       "        vertical-align: top;\n",
       "    }\n",
       "\n",
       "    .dataframe thead th {\n",
       "        text-align: right;\n",
       "    }\n",
       "</style>\n",
       "<table border=\"1\" class=\"dataframe\">\n",
       "  <thead>\n",
       "    <tr style=\"text-align: right;\">\n",
       "      <th></th>\n",
       "      <th>name</th>\n",
       "      <th>Longitude</th>\n",
       "      <th>Latitude</th>\n",
       "    </tr>\n",
       "  </thead>\n",
       "  <tbody>\n",
       "    <tr>\n",
       "      <th>0</th>\n",
       "      <td>Aruba</td>\n",
       "      <td>-69.982677</td>\n",
       "      <td>12.520880</td>\n",
       "    </tr>\n",
       "    <tr>\n",
       "      <th>1</th>\n",
       "      <td>Afghanistan</td>\n",
       "      <td>66.004734</td>\n",
       "      <td>33.835231</td>\n",
       "    </tr>\n",
       "    <tr>\n",
       "      <th>2</th>\n",
       "      <td>Angola</td>\n",
       "      <td>17.537368</td>\n",
       "      <td>-12.293361</td>\n",
       "    </tr>\n",
       "    <tr>\n",
       "      <th>3</th>\n",
       "      <td>Anguilla</td>\n",
       "      <td>-63.064989</td>\n",
       "      <td>18.223959</td>\n",
       "    </tr>\n",
       "    <tr>\n",
       "      <th>4</th>\n",
       "      <td>Albania</td>\n",
       "      <td>20.049834</td>\n",
       "      <td>41.142450</td>\n",
       "    </tr>\n",
       "    <tr>\n",
       "      <th>5</th>\n",
       "      <td>Aland</td>\n",
       "      <td>19.953288</td>\n",
       "      <td>60.214887</td>\n",
       "    </tr>\n",
       "    <tr>\n",
       "      <th>6</th>\n",
       "      <td>Andorra</td>\n",
       "      <td>1.560544</td>\n",
       "      <td>42.542291</td>\n",
       "    </tr>\n",
       "    <tr>\n",
       "      <th>7</th>\n",
       "      <td>United Arab Emirates</td>\n",
       "      <td>54.300167</td>\n",
       "      <td>23.905282</td>\n",
       "    </tr>\n",
       "    <tr>\n",
       "      <th>8</th>\n",
       "      <td>Argentina</td>\n",
       "      <td>-65.179807</td>\n",
       "      <td>-35.381349</td>\n",
       "    </tr>\n",
       "    <tr>\n",
       "      <th>9</th>\n",
       "      <td>Armenia</td>\n",
       "      <td>44.929933</td>\n",
       "      <td>40.289526</td>\n",
       "    </tr>\n",
       "    <tr>\n",
       "      <th>10</th>\n",
       "      <td>American Samoa</td>\n",
       "      <td>-170.718026</td>\n",
       "      <td>-14.304460</td>\n",
       "    </tr>\n",
       "    <tr>\n",
       "      <th>11</th>\n",
       "      <td>Antarctica</td>\n",
       "      <td>19.921090</td>\n",
       "      <td>-80.508579</td>\n",
       "    </tr>\n",
       "    <tr>\n",
       "      <th>12</th>\n",
       "      <td>Ashmore and Cartier Is.</td>\n",
       "      <td>123.583838</td>\n",
       "      <td>-12.429932</td>\n",
       "    </tr>\n",
       "    <tr>\n",
       "      <th>13</th>\n",
       "      <td>Fr. S. Antarctic Lands</td>\n",
       "      <td>69.226668</td>\n",
       "      <td>-49.248955</td>\n",
       "    </tr>\n",
       "    <tr>\n",
       "      <th>14</th>\n",
       "      <td>Antigua and Barb.</td>\n",
       "      <td>-61.794693</td>\n",
       "      <td>17.277500</td>\n",
       "    </tr>\n",
       "    <tr>\n",
       "      <th>15</th>\n",
       "      <td>Australia</td>\n",
       "      <td>134.491000</td>\n",
       "      <td>-25.732887</td>\n",
       "    </tr>\n",
       "    <tr>\n",
       "      <th>16</th>\n",
       "      <td>Austria</td>\n",
       "      <td>14.126476</td>\n",
       "      <td>47.585494</td>\n",
       "    </tr>\n",
       "    <tr>\n",
       "      <th>17</th>\n",
       "      <td>Azerbaijan</td>\n",
       "      <td>47.545999</td>\n",
       "      <td>40.288272</td>\n",
       "    </tr>\n",
       "    <tr>\n",
       "      <th>18</th>\n",
       "      <td>Burundi</td>\n",
       "      <td>29.875122</td>\n",
       "      <td>-3.359397</td>\n",
       "    </tr>\n",
       "    <tr>\n",
       "      <th>19</th>\n",
       "      <td>Belgium</td>\n",
       "      <td>4.640651</td>\n",
       "      <td>50.639816</td>\n",
       "    </tr>\n",
       "  </tbody>\n",
       "</table>\n",
       "</div>"
      ],
      "text/plain": [
       "                       name   Longitude   Latitude\n",
       "0                     Aruba  -69.982677  12.520880\n",
       "1               Afghanistan   66.004734  33.835231\n",
       "2                    Angola   17.537368 -12.293361\n",
       "3                  Anguilla  -63.064989  18.223959\n",
       "4                   Albania   20.049834  41.142450\n",
       "5                     Aland   19.953288  60.214887\n",
       "6                   Andorra    1.560544  42.542291\n",
       "7      United Arab Emirates   54.300167  23.905282\n",
       "8                 Argentina  -65.179807 -35.381349\n",
       "9                   Armenia   44.929933  40.289526\n",
       "10           American Samoa -170.718026 -14.304460\n",
       "11               Antarctica   19.921090 -80.508579\n",
       "12  Ashmore and Cartier Is.  123.583838 -12.429932\n",
       "13   Fr. S. Antarctic Lands   69.226668 -49.248955\n",
       "14        Antigua and Barb.  -61.794693  17.277500\n",
       "15                Australia  134.491000 -25.732887\n",
       "16                  Austria   14.126476  47.585494\n",
       "17               Azerbaijan   47.545999  40.288272\n",
       "18                  Burundi   29.875122  -3.359397\n",
       "19                  Belgium    4.640651  50.639816"
      ]
     },
     "execution_count": 4,
     "metadata": {},
     "output_type": "execute_result"
    }
   ],
   "source": [
    "data = pd.read_csv('/Users/acer/Desktop/AI/K_means/Countries-exercise.csv')\n",
    "data.head(20)\n"
   ]
  },
  {
   "cell_type": "code",
   "execution_count": 5,
   "metadata": {},
   "outputs": [
    {
     "data": {
      "text/plain": [
       "(241, 3)"
      ]
     },
     "execution_count": 5,
     "metadata": {},
     "output_type": "execute_result"
    }
   ],
   "source": [
    "data.shape"
   ]
  },
  {
   "cell_type": "code",
   "execution_count": 6,
   "metadata": {},
   "outputs": [
    {
     "data": {
      "text/html": [
       "<div>\n",
       "<style scoped>\n",
       "    .dataframe tbody tr th:only-of-type {\n",
       "        vertical-align: middle;\n",
       "    }\n",
       "\n",
       "    .dataframe tbody tr th {\n",
       "        vertical-align: top;\n",
       "    }\n",
       "\n",
       "    .dataframe thead th {\n",
       "        text-align: right;\n",
       "    }\n",
       "</style>\n",
       "<table border=\"1\" class=\"dataframe\">\n",
       "  <thead>\n",
       "    <tr style=\"text-align: right;\">\n",
       "      <th></th>\n",
       "      <th>Longitude</th>\n",
       "      <th>Latitude</th>\n",
       "    </tr>\n",
       "  </thead>\n",
       "  <tbody>\n",
       "    <tr>\n",
       "      <th>0</th>\n",
       "      <td>-69.982677</td>\n",
       "      <td>12.520880</td>\n",
       "    </tr>\n",
       "    <tr>\n",
       "      <th>1</th>\n",
       "      <td>66.004734</td>\n",
       "      <td>33.835231</td>\n",
       "    </tr>\n",
       "    <tr>\n",
       "      <th>2</th>\n",
       "      <td>17.537368</td>\n",
       "      <td>-12.293361</td>\n",
       "    </tr>\n",
       "    <tr>\n",
       "      <th>3</th>\n",
       "      <td>-63.064989</td>\n",
       "      <td>18.223959</td>\n",
       "    </tr>\n",
       "    <tr>\n",
       "      <th>4</th>\n",
       "      <td>20.049834</td>\n",
       "      <td>41.142450</td>\n",
       "    </tr>\n",
       "    <tr>\n",
       "      <th>...</th>\n",
       "      <td>...</td>\n",
       "      <td>...</td>\n",
       "    </tr>\n",
       "    <tr>\n",
       "      <th>236</th>\n",
       "      <td>-172.164851</td>\n",
       "      <td>-13.753243</td>\n",
       "    </tr>\n",
       "    <tr>\n",
       "      <th>237</th>\n",
       "      <td>47.586762</td>\n",
       "      <td>15.909280</td>\n",
       "    </tr>\n",
       "    <tr>\n",
       "      <th>238</th>\n",
       "      <td>25.083901</td>\n",
       "      <td>-29.000341</td>\n",
       "    </tr>\n",
       "    <tr>\n",
       "      <th>239</th>\n",
       "      <td>27.774759</td>\n",
       "      <td>-13.458242</td>\n",
       "    </tr>\n",
       "    <tr>\n",
       "      <th>240</th>\n",
       "      <td>29.851441</td>\n",
       "      <td>-19.004204</td>\n",
       "    </tr>\n",
       "  </tbody>\n",
       "</table>\n",
       "<p>241 rows × 2 columns</p>\n",
       "</div>"
      ],
      "text/plain": [
       "      Longitude   Latitude\n",
       "0    -69.982677  12.520880\n",
       "1     66.004734  33.835231\n",
       "2     17.537368 -12.293361\n",
       "3    -63.064989  18.223959\n",
       "4     20.049834  41.142450\n",
       "..          ...        ...\n",
       "236 -172.164851 -13.753243\n",
       "237   47.586762  15.909280\n",
       "238   25.083901 -29.000341\n",
       "239   27.774759 -13.458242\n",
       "240   29.851441 -19.004204\n",
       "\n",
       "[241 rows x 2 columns]"
      ]
     },
     "execution_count": 6,
     "metadata": {},
     "output_type": "execute_result"
    }
   ],
   "source": [
    "X = data.iloc[:, 1:3]\n",
    "X"
   ]
  },
  {
   "cell_type": "code",
   "execution_count": 7,
   "metadata": {},
   "outputs": [
    {
     "data": {
      "text/plain": [
       "(241, 2)"
      ]
     },
     "execution_count": 7,
     "metadata": {},
     "output_type": "execute_result"
    }
   ],
   "source": [
    "X.shape"
   ]
  },
  {
   "cell_type": "code",
   "execution_count": 8,
   "metadata": {},
   "outputs": [],
   "source": [
    "X = np.array(X)"
   ]
  },
  {
   "cell_type": "code",
   "execution_count": 9,
   "metadata": {},
   "outputs": [
    {
     "data": {
      "text/plain": [
       "(241, 2)"
      ]
     },
     "execution_count": 9,
     "metadata": {},
     "output_type": "execute_result"
    }
   ],
   "source": [
    "X.shape"
   ]
  },
  {
   "cell_type": "code",
   "execution_count": 10,
   "metadata": {},
   "outputs": [
    {
     "data": {
      "text/plain": [
       "<matplotlib.collections.PathCollection at 0x1ac438a53f0>"
      ]
     },
     "execution_count": 10,
     "metadata": {},
     "output_type": "execute_result"
    },
    {
     "data": {
      "image/png": "[encoded data removed]",
      "text/plain": [
       "<Figure size 432x288 with 1 Axes>"
      ]
     },
     "metadata": {
      "needs_background": "light"
     },
     "output_type": "display_data"
    }
   ],
   "source": [
    "plt.scatter(X[:,0], X[:,1])"
   ]
  },
  {
   "cell_type": "code",
   "execution_count": 11,
   "metadata": {},
   "outputs": [],
   "source": [
    "# 3 Choose K centroids"
   ]
  },
  {
   "cell_type": "code",
   "execution_count": 12,
   "metadata": {},
   "outputs": [],
   "source": [
    "def initialize_K_centroids(X, K):\n",
    "    m,n = X.shape\n",
    "    k_rand = np.ones((K, n))\n",
    "    k_rand = X[np.random.choice(range(len(X)), K, replace=False),:]\n",
    "    return k_rand"
   ]
  },
  {
   "cell_type": "code",
   "execution_count": 13,
   "metadata": {},
   "outputs": [],
   "source": [
    "centroids_init = initialize_K_centroids(X, 4)"
   ]
  },
  {
   "cell_type": "code",
   "execution_count": 14,
   "metadata": {},
   "outputs": [
    {
     "data": {
      "text/plain": [
       "array([[-59.35238956, -51.74483954],\n",
       "       [103.7377241 ,  18.50217433],\n",
       "       [ 63.14001528,  41.75554225],\n",
       "       [ 16.40412899,  45.08047631]])"
      ]
     },
     "execution_count": 14,
     "metadata": {},
     "output_type": "execute_result"
    }
   ],
   "source": [
    "centroids_init"
   ]
  },
  {
   "cell_type": "code",
   "execution_count": 15,
   "metadata": {},
   "outputs": [],
   "source": [
    "# 4 Compute distances"
   ]
  },
  {
   "cell_type": "code",
   "execution_count": 16,
   "metadata": {},
   "outputs": [],
   "source": [
    "def find_closest_centroids(X, centroids):\n",
    "    m = len(X)\n",
    "    c = np.zeros(m)\n",
    "    for i in range(m):\n",
    "        distances = np.linalg.norm(X[i] - centroids, axis=1)\n",
    "        c[i] = np.argmin(distances)\n",
    "    return c"
   ]
  },
  {
   "cell_type": "code",
   "execution_count": 17,
   "metadata": {},
   "outputs": [
    {
     "data": {
      "text/plain": [
       "array([0., 2., 3., 0., 3., 3., 3., 2., 0., 2., 0., 0., 1., 1., 0., 1., 3.,\n",
       "       2., 3., 3., 3., 3., 1., 3., 2., 3., 0., 3., 0., 3., 0., 3., 0., 0.,\n",
       "       0., 1., 1., 3., 3., 3., 0., 1., 3., 3., 3., 3., 0., 0., 2., 3., 0.,\n",
       "       0., 0., 0., 3., 3., 3., 3., 2., 0., 3., 0., 3., 0., 3., 2., 3., 3.,\n",
       "       2., 3., 1., 0., 3., 3., 1., 3., 3., 2., 3., 3., 3., 3., 3., 3., 3.,\n",
       "       0., 3., 0., 1., 0., 1., 1., 0., 3., 0., 3., 1., 3., 1., 1., 1., 3.,\n",
       "       2., 2., 3., 3., 3., 0., 3., 3., 1., 2., 2., 2., 2., 1., 0., 0., 1.,\n",
       "       3., 2., 1., 3., 3., 3., 0., 3., 1., 3., 3., 3., 3., 1., 0., 3., 3.,\n",
       "       3., 2., 1., 0., 1., 3., 3., 3., 1., 3., 1., 1., 2., 3., 0., 1., 3.,\n",
       "       1., 3., 1., 3., 1., 3., 0., 0., 3., 3., 1., 1., 1., 2., 2., 0., 0.,\n",
       "       0., 1., 1., 1., 3., 0., 1., 3., 0., 3., 0., 2., 3., 2., 3., 3., 2.,\n",
       "       3., 3., 3., 1., 0., 3., 1., 3., 0., 3., 2., 2., 3., 3., 3., 0., 3.,\n",
       "       3., 3., 3., 0., 2., 3., 0., 3., 3., 1., 2., 2., 1., 0., 0., 3., 3.,\n",
       "       1., 3., 3., 3., 0., 0., 2., 3., 0., 0., 0., 0., 1., 1., 0., 0., 2.,\n",
       "       3., 3., 3.])"
      ]
     },
     "execution_count": 17,
     "metadata": {},
     "output_type": "execute_result"
    }
   ],
   "source": [
    "idx = find_closest_centroids(X, centroids_init)\n",
    "idx"
   ]
  },
  {
   "cell_type": "code",
   "execution_count": 18,
   "metadata": {},
   "outputs": [],
   "source": [
    "# 5 Update centroids"
   ]
  },
  {
   "cell_type": "code",
   "execution_count": 19,
   "metadata": {},
   "outputs": [],
   "source": [
    "def compute_means(X, idx, K):\n",
    "    m, n = X.shape\n",
    "    centroids = np.zeros((K, n))\n",
    "    for k in range(K):\n",
    "        points_belong_k = X[np.where(idx == k)]\n",
    "        centroids[k] = np.mean(points_belong_k, axis=0,)\n",
    "    return centroids"
   ]
  },
  {
   "cell_type": "code",
   "execution_count": 20,
   "metadata": {},
   "outputs": [
    {
     "data": {
      "text/plain": [
       "array([[-80.73800292,   1.93162591],\n",
       "       [118.83498411,   4.55018048],\n",
       "       [ 53.63093684,  23.27086924],\n",
       "       [ 10.26707861,  28.96850882]])"
      ]
     },
     "execution_count": 20,
     "metadata": {},
     "output_type": "execute_result"
    }
   ],
   "source": [
    "centroids = compute_means(X, idx, 4)\n",
    "centroids"
   ]
  },
  {
   "cell_type": "code",
   "execution_count": 21,
   "metadata": {},
   "outputs": [],
   "source": [
    "# 6 "
   ]
  },
  {
   "cell_type": "code",
   "execution_count": 22,
   "metadata": {},
   "outputs": [],
   "source": [
    "def find_k_means(X, K, max_iters=10):\n",
    "    _, n = X.shape\n",
    "    centroids = initialize_K_centroids(X, K) \n",
    "    centroid_history = np.zeros((max_iters, K, n))\n",
    "    for i in range(max_iters):\n",
    "        idx = find_closest_centroids(X, centroids)\n",
    "        centroids = compute_means(X, idx, K)\n",
    "    \n",
    "    return centroids, idx"
   ]
  },
  {
   "cell_type": "code",
   "execution_count": 23,
   "metadata": {},
   "outputs": [],
   "source": [
    "centroids, idx = find_k_means(X, 4)"
   ]
  },
  {
   "cell_type": "code",
   "execution_count": 24,
   "metadata": {},
   "outputs": [
    {
     "data": {
      "text/plain": [
       "array([[-82.03484643,   5.55229685],\n",
       "       [ 27.55306754,  -4.95988608],\n",
       "       [123.21952457,  10.19873294],\n",
       "       [ 20.08603271,  41.24192511]])"
      ]
     },
     "execution_count": 24,
     "metadata": {},
     "output_type": "execute_result"
    }
   ],
   "source": [
    "centroids"
   ]
  },
  {
   "cell_type": "code",
   "execution_count": 25,
   "metadata": {},
   "outputs": [
    {
     "data": {
      "text/plain": [
       "array([0., 3., 1., 0., 3., 3., 3., 3., 0., 3., 0., 1., 2., 1., 0., 2., 3.,\n",
       "       3., 1., 3., 1., 1., 2., 3., 3., 0., 0., 3., 0., 3., 0., 0., 0., 0.,\n",
       "       0., 2., 2., 1., 1., 3., 0., 2., 1., 1., 1., 1., 0., 0., 1., 3., 0.,\n",
       "       0., 0., 0., 3., 3., 3., 3., 1., 0., 3., 0., 3., 0., 3., 1., 3., 3.,\n",
       "       1., 3., 2., 0., 3., 3., 2., 1., 3., 3., 3., 1., 1., 3., 3., 1., 3.,\n",
       "       0., 3., 0., 2., 0., 2., 1., 0., 3., 0., 3., 2., 3., 2., 2., 1., 3.,\n",
       "       3., 3., 3., 3., 3., 0., 3., 3., 2., 2., 3., 1., 3., 2., 0., 0., 2.,\n",
       "       3., 3., 2., 3., 1., 3., 0., 3., 2., 1., 3., 3., 3., 2., 0., 3., 3.,\n",
       "       3., 1., 1., 0., 2., 3., 3., 3., 2., 3., 2., 2., 1., 3., 0., 1., 1.,\n",
       "       2., 1., 2., 3., 2., 1., 0., 0., 3., 3., 2., 2., 2., 1., 3., 0., 0.,\n",
       "       0., 2., 2., 2., 3., 0., 2., 3., 0., 3., 0., 3., 3., 2., 1., 3., 3.,\n",
       "       1., 1., 3., 2., 0., 1., 2., 1., 0., 3., 1., 1., 0., 3., 1., 0., 3.,\n",
       "       3., 3., 1., 0., 1., 3., 0., 1., 1., 2., 3., 3., 2., 0., 0., 3., 3.,\n",
       "       2., 1., 1., 3., 0., 0., 3., 3., 0., 0., 0., 0., 2., 2., 0., 0., 1.,\n",
       "       1., 1., 1.])"
      ]
     },
     "execution_count": 25,
     "metadata": {},
     "output_type": "execute_result"
    }
   ],
   "source": [
    "idx"
   ]
  },
  {
   "cell_type": "code",
   "execution_count": null,
   "metadata": {},
   "outputs": [],
   "source": [
    "\n"
   ]
  },
  {
   "cell_type": "code",
   "execution_count": null,
   "metadata": {},
   "outputs": [],
   "source": []
  },
  {
   "cell_type": "code",
   "execution_count": null,
   "metadata": {},
   "outputs": [],
   "source": []
  },
  {
   "cell_type": "code",
   "execution_count": null,
   "metadata": {},
   "outputs": [],
   "source": []
  }
 ],
 "metadata": {
  "kernelspec": {
   "display_name": "Python 3",
   "language": "python",
   "name": "python3"
  },
  "language_info": {
   "codemirror_mode": {
    "name": "ipython",
    "version": 3
   },
   "file_extension": ".py",
   "mimetype": "text/x-python",
   "name": "python",
   "nbconvert_exporter": "python",
   "pygments_lexer": "ipython3",
   "version": "3.10.0"
  }
 },
 "nbformat": 4,
 "nbformat_minor": 2
}
